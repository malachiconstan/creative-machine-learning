{
 "cells": [
  {
   "cell_type": "code",
   "execution_count": 1,
   "metadata": {},
   "outputs": [],
   "source": [
    "import tensorflow as tf\n",
    "import tensorflow.keras as keras\n",
    "import numpy as np\n",
    "import os"
   ]
  },
  {
   "cell_type": "code",
   "execution_count": 2,
   "metadata": {},
   "outputs": [],
   "source": [
    "%load_ext autoreload\n",
    "%autoreload 2"
   ]
  },
  {
   "cell_type": "code",
   "execution_count": 3,
   "metadata": {},
   "outputs": [],
   "source": [
    "from utils.models import PGDiscriminator\n",
    "from utils.custom_layers import EqualizedDense\n",
    "from utils.train import ProgressiveGANTrainer"
   ]
  },
  {
   "cell_type": "code",
   "execution_count": 4,
   "metadata": {},
   "outputs": [],
   "source": [
    "data_directory = os.path.join(os.getcwd(),'data')\n",
    "image_path_pattern = os.path.join(data_directory,'google_pavilion','*.jpeg')\n",
    "\n",
    "glr = 1e-4\n",
    "dlr = 1e-4\n",
    "\n",
    "generator_optimizer = keras.optimizers.Adam(glr)\n",
    "discriminator_optimizer = keras.optimizers.Adam(dlr)"
   ]
  },
  {
   "cell_type": "code",
   "execution_count": 5,
   "metadata": {},
   "outputs": [
    {
     "name": "stdout",
     "output_type": "stream",
     "text": [
      "Linear Alpha Jump Vals Updated\n",
      "Scale Sanity Check Completed\n",
      "Scales:  3\n",
      "Scale Sizes:  [4, 8, 16]\n",
      "Training Configuration Read\n"
     ]
    }
   ],
   "source": [
    "pggan_trainer = ProgressiveGANTrainer(datapath=image_path_pattern,\n",
    "                                      discriminator_optimizer = discriminator_optimizer,\n",
    "                                      generator_optimizer = generator_optimizer\n",
    "                                     )"
   ]
  },
  {
   "cell_type": "code",
   "execution_count": 6,
   "metadata": {},
   "outputs": [
    {
     "data": {
      "text/plain": [
       "maxIterAtScale: [48000, 96000, 96000] \n",
       "alphaJumpMode: linear \n",
       "alphaNJumps: [0, 600, 600] \n",
       "alphaSizeJumps: [0, 32, 32] \n",
       "depthScales: [512, 512, 512] \n",
       "miniBatchSize: 16 \n",
       "latent_dim: 512 \n",
       "init_bias_zero: True \n",
       "per_channel_normalisation: True \n",
       "equalizedlR: True \n",
       "lambdaGP: 10.0 \n",
       "leaky_relu_leak: 0.2 \n",
       "epsilonD: 0.001 \n",
       "mini_batch_sd: True \n",
       "base_learning_rate: 0.0001 \n",
       "output_dim: 3 \n",
       "weightConditionG: 0.0 \n",
       "weightConditionD: 0.0 \n",
       "attribKeysOrder: None \n",
       "GDPP: False \n",
       "size_scales: [4, 8, 16] \n",
       "n_scales: 3 "
      ]
     },
     "execution_count": 6,
     "metadata": {},
     "output_type": "execute_result"
    }
   ],
   "source": [
    "pggan_trainer.modelConfig"
   ]
  },
  {
   "cell_type": "code",
   "execution_count": null,
   "metadata": {},
   "outputs": [
    {
     "name": "stdout",
     "output_type": "stream",
     "text": [
      "Scale 0 for size 4 training begins\n",
      "Time from step 0 to 195 is 6.265 sec\n",
      "Time from step 195 to 390 is 2.283 sec\n",
      "Time from step 390 to 585 is 2.262 sec\n",
      "Time from step 585 to 780 is 2.256 sec\n",
      "Time from step 780 to 975 is 2.264 sec\n",
      "Time from step 975 to 1170 is 2.260 sec\n",
      "Time from step 1170 to 1365 is 2.262 sec\n",
      "Time from step 1365 to 1560 is 2.260 sec\n",
      "Time from step 1560 to 1755 is 2.258 sec\n",
      "Time from step 1755 to 1950 is 2.258 sec\n",
      "Time from step 1950 to 2145 is 2.261 sec\n",
      "Time from step 2145 to 2340 is 2.296 sec\n",
      "Time from step 2340 to 2535 is 2.297 sec\n",
      "Time from step 2535 to 2730 is 2.264 sec\n",
      "Time from step 2730 to 2925 is 2.256 sec\n",
      "Time from step 2925 to 3120 is 2.258 sec\n",
      "Time from step 3120 to 3315 is 2.253 sec\n",
      "Time from step 3315 to 3510 is 2.263 sec\n",
      "Time from step 3510 to 3705 is 2.263 sec\n",
      "Time from step 3705 to 3900 is 2.290 sec\n",
      "Time from step 3900 to 4095 is 2.286 sec\n",
      "Time from step 4095 to 4290 is 2.265 sec\n",
      "Time from step 4290 to 4485 is 2.302 sec\n",
      "Time from step 4485 to 4680 is 2.275 sec\n",
      "Time from step 4680 to 4875 is 2.287 sec\n",
      "Time from step 4875 to 5070 is 2.283 sec\n",
      "Time from step 5070 to 5265 is 2.281 sec\n",
      "Time from step 5265 to 5460 is 2.284 sec\n",
      "Time from step 5460 to 5655 is 2.288 sec\n",
      "Time from step 5655 to 5850 is 2.284 sec\n",
      "Time from step 5850 to 6045 is 2.276 sec\n",
      "Time from step 6045 to 6240 is 2.287 sec\n",
      "Time from step 6240 to 6435 is 2.280 sec\n",
      "Time from step 6435 to 6630 is 2.281 sec\n",
      "Time from step 6630 to 6825 is 2.407 sec\n",
      "Time from step 6825 to 7020 is 2.315 sec\n",
      "Time from step 7020 to 7215 is 2.282 sec\n",
      "Time from step 7215 to 7410 is 2.268 sec\n",
      "Time from step 7410 to 7605 is 2.286 sec\n",
      "Time from step 7605 to 7800 is 2.288 sec\n",
      "Time from step 7800 to 7995 is 2.247 sec\n",
      "Time from step 7995 to 8190 is 2.276 sec\n",
      "Time from step 8190 to 8385 is 2.296 sec\n",
      "Time from step 8385 to 8580 is 2.291 sec\n",
      "Time from step 8580 to 8775 is 2.276 sec\n",
      "Time from step 8775 to 8970 is 2.290 sec\n",
      "Time from step 8970 to 9165 is 2.276 sec\n",
      "Time from step 9165 to 9360 is 2.288 sec\n",
      "Time from step 9360 to 9555 is 2.411 sec\n",
      "Time from step 9555 to 9750 is 2.890 sec\n",
      "Time from step 9750 to 9945 is 2.389 sec\n",
      "Time from step 9945 to 10140 is 2.333 sec\n",
      "Time from step 10140 to 10335 is 2.291 sec\n",
      "Time from step 10335 to 10530 is 2.318 sec\n",
      "Time from step 10530 to 10725 is 2.276 sec\n",
      "Time from step 10725 to 10920 is 2.289 sec\n",
      "Time from step 10920 to 11115 is 2.289 sec\n",
      "Time from step 11115 to 11310 is 2.292 sec\n",
      "Time from step 11310 to 11505 is 2.279 sec\n",
      "Time from step 11505 to 11700 is 2.270 sec\n",
      "Time from step 11700 to 11895 is 2.277 sec\n",
      "Time from step 11895 to 12090 is 2.298 sec\n",
      "Time from step 12090 to 12285 is 2.356 sec\n",
      "Time from step 12285 to 12480 is 2.288 sec\n",
      "Time from step 12480 to 12675 is 2.279 sec\n",
      "Time from step 12675 to 12870 is 2.293 sec\n",
      "Time from step 12870 to 13065 is 2.284 sec\n",
      "Time from step 13065 to 13260 is 2.297 sec\n",
      "Time from step 13260 to 13455 is 2.298 sec\n",
      "Time from step 13455 to 13650 is 2.292 sec\n",
      "Time from step 13650 to 13845 is 2.289 sec\n",
      "Time from step 13845 to 14040 is 2.293 sec\n",
      "Time from step 14040 to 14235 is 2.294 sec\n",
      "Time from step 14235 to 14430 is 2.286 sec\n",
      "Time from step 14430 to 14625 is 2.297 sec\n",
      "Time from step 14625 to 14820 is 2.300 sec\n",
      "Time from step 14820 to 15015 is 2.291 sec\n",
      "Time from step 15015 to 15210 is 2.278 sec\n",
      "Time from step 15210 to 15405 is 2.292 sec\n",
      "Time from step 15405 to 15600 is 2.343 sec\n",
      "Time from step 15600 to 15795 is 2.250 sec\n",
      "Time from step 15795 to 15990 is 2.292 sec\n",
      "Time from step 15990 to 16185 is 2.285 sec\n",
      "Time from step 16185 to 16380 is 2.271 sec\n",
      "Time from step 16380 to 16575 is 2.288 sec\n",
      "Time from step 16575 to 16770 is 2.282 sec\n",
      "Time from step 16770 to 16965 is 2.295 sec\n",
      "Time from step 16965 to 17160 is 2.304 sec\n",
      "Time from step 17160 to 17355 is 2.296 sec\n",
      "Time from step 17355 to 17550 is 2.300 sec\n",
      "Time from step 17550 to 17745 is 2.292 sec\n",
      "Time from step 17745 to 17940 is 2.287 sec\n",
      "Time from step 17940 to 18135 is 2.275 sec\n",
      "Time from step 18135 to 18330 is 2.288 sec\n",
      "Time from step 18330 to 18525 is 2.327 sec\n",
      "Time from step 18525 to 18720 is 2.299 sec\n",
      "Time from step 18720 to 18915 is 2.292 sec\n",
      "Time from step 18915 to 19110 is 2.301 sec\n",
      "Time from step 19110 to 19305 is 2.308 sec\n",
      "Time from step 19305 to 19500 is 2.288 sec\n",
      "Time from step 19500 to 19695 is 2.298 sec\n",
      "Time from step 19695 to 19890 is 2.311 sec\n",
      "Time from step 19890 to 20085 is 2.308 sec\n",
      "Time from step 20085 to 20280 is 2.342 sec\n",
      "Time from step 20280 to 20475 is 2.297 sec\n",
      "Time from step 20475 to 20670 is 2.340 sec\n",
      "Time from step 20670 to 20865 is 2.305 sec\n",
      "Time from step 20865 to 21060 is 2.313 sec\n",
      "Time from step 21060 to 21255 is 2.295 sec\n",
      "Time from step 21255 to 21450 is 2.302 sec\n",
      "Time from step 21450 to 21645 is 2.290 sec\n",
      "Time from step 21645 to 21840 is 2.278 sec\n",
      "Time from step 21840 to 22035 is 2.292 sec\n",
      "Time from step 22035 to 22230 is 2.288 sec\n",
      "Time from step 22230 to 22425 is 2.280 sec\n",
      "Time from step 22425 to 22620 is 2.283 sec\n",
      "Time from step 22620 to 22815 is 2.279 sec\n",
      "Time from step 22815 to 23010 is 2.283 sec\n",
      "Time from step 23010 to 23205 is 2.282 sec\n",
      "Time from step 23205 to 23400 is 2.294 sec\n",
      "Time from step 23400 to 23595 is 2.239 sec\n",
      "Time from step 23595 to 23790 is 2.277 sec\n",
      "Time from step 23790 to 23985 is 2.278 sec\n",
      "Time from step 23985 to 24180 is 2.290 sec\n",
      "Time from step 24180 to 24375 is 2.281 sec\n",
      "Time from step 24375 to 24570 is 2.287 sec\n",
      "Time from step 24570 to 24765 is 2.299 sec\n",
      "Time from step 24765 to 24960 is 2.280 sec\n",
      "Time from step 24960 to 25155 is 2.278 sec\n",
      "Time from step 25155 to 25350 is 2.295 sec\n",
      "Time from step 25350 to 25545 is 2.301 sec\n",
      "Time from step 25545 to 25740 is 2.302 sec\n",
      "Time from step 25740 to 25935 is 2.289 sec\n",
      "Time from step 25935 to 26130 is 2.288 sec\n",
      "Time from step 26130 to 26325 is 2.277 sec\n",
      "Time from step 26325 to 26520 is 2.287 sec\n",
      "Time from step 26520 to 26715 is 2.273 sec\n",
      "Time from step 26715 to 26910 is 2.288 sec\n",
      "Time from step 26910 to 27105 is 2.289 sec\n",
      "Time from step 27105 to 27300 is 2.280 sec\n"
     ]
    }
   ],
   "source": [
    "pggan_trainer.train()"
   ]
  },
  {
   "cell_type": "code",
   "execution_count": 180,
   "metadata": {},
   "outputs": [
    {
     "data": {
      "text/plain": [
       "True"
      ]
     },
     "execution_count": 180,
     "metadata": {},
     "output_type": "execute_result"
    }
   ],
   "source": [
    "tf.executing_eagerly()"
   ]
  },
  {
   "cell_type": "code",
   "execution_count": null,
   "metadata": {},
   "outputs": [],
   "source": []
  }
 ],
 "metadata": {
  "kernelspec": {
   "display_name": "Python 3",
   "language": "python",
   "name": "python3"
  },
  "language_info": {
   "codemirror_mode": {
    "name": "ipython",
    "version": 3
   },
   "file_extension": ".py",
   "mimetype": "text/x-python",
   "name": "python",
   "nbconvert_exporter": "python",
   "pygments_lexer": "ipython3",
   "version": "3.7.7"
  }
 },
 "nbformat": 4,
 "nbformat_minor": 4
}
